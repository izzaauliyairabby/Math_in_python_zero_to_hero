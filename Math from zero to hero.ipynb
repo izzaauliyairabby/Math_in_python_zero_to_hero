{
 "cells": [
  {
   "cell_type": "markdown",
   "metadata": {},
   "source": [
    "# Math in Python from zero to Hero!\n",
    "### An approach to understanding theory and implementation of Math.\n",
    "### From elementary level to university Math.\n",
    "\n",
    "Learning from Profesor Dave on Youtube.\n",
    "https://youtube.com/playlist?list=PLybg94GvOJ9FoGQeUMFZ4SWZsr30jlUYK"
   ]
  },
  {
   "cell_type": "markdown",
   "metadata": {},
   "source": [
    "## Addition and Subtraction"
   ]
  },
  {
   "cell_type": "code",
   "execution_count": 1,
   "metadata": {},
   "outputs": [
    {
     "name": "stdout",
     "output_type": "stream",
     "text": [
      "3\n",
      "-1\n"
     ]
    }
   ],
   "source": [
    "a = 1\n",
    "b = 2\n",
    "print(a + b)\n",
    "c = 3\n",
    "d = 4\n",
    "print(c - d)"
   ]
  },
  {
   "cell_type": "markdown",
   "metadata": {},
   "source": [
    "# Multiplication and Division"
   ]
  },
  {
   "cell_type": "code",
   "execution_count": 2,
   "metadata": {},
   "outputs": [
    {
     "name": "stdout",
     "output_type": "stream",
     "text": [
      "4000\n",
      "0.1\n"
     ]
    }
   ],
   "source": [
    "e = 200\n",
    "f = 20\n",
    "print (e * f)\n",
    "print(f / e)"
   ]
  },
  {
   "cell_type": "markdown",
   "metadata": {},
   "source": []
  },
  {
   "cell_type": "markdown",
   "metadata": {},
   "source": [
    "# Fractions, Improper Fractions, and Mixed Numbers"
   ]
  },
  {
   "cell_type": "code",
   "execution_count": 6,
   "metadata": {},
   "outputs": [
    {
     "name": "stdout",
     "output_type": "stream",
     "text": [
      "6/7\n",
      "15/16\n"
     ]
    }
   ],
   "source": [
    "#Fraction / Bilangan Bulat\n",
    "from fractions import Fraction as Pecahan \n",
    "print (Pecahan(12, 14)) \n",
    "print (Pecahan(15, 16))"
   ]
  },
  {
   "cell_type": "code",
   "execution_count": 7,
   "metadata": {},
   "outputs": [
    {
     "name": "stdout",
     "output_type": "stream",
     "text": [
      "6004799503160661/18014398509481984\n"
     ]
    }
   ],
   "source": [
    "#Fraction Float\n",
    "from fractions import Fraction as Pecahan  \n",
    "print(Pecahan(2/6))"
   ]
  },
  {
   "cell_type": "code",
   "execution_count": 14,
   "metadata": {},
   "outputs": [
    {
     "name": "stdout",
     "output_type": "stream",
     "text": [
      "1/4\n",
      "1/2\n"
     ]
    }
   ],
   "source": [
    "# Fraction Decimal\n",
    "from fractions import Fraction as pecahan\n",
    "print(pecahan(0.25))\n",
    "print(pecahan(0.5))"
   ]
  },
  {
   "cell_type": "code",
   "execution_count": 13,
   "metadata": {},
   "outputs": [
    {
     "name": "stdout",
     "output_type": "stream",
     "text": [
      "23/20\n",
      "5/12\n",
      "12/35\n",
      "3/10\n"
     ]
    }
   ],
   "source": [
    "# Fraction in Subdivision, Addition, Subtraction, and Divison.\n",
    "from fractions import Fraction as Pecahan\n",
    "print(Pecahan(3, 4) + Pecahan(2, 5))  \n",
    "print(Pecahan(3, 4) - Pecahan(2, 6))  \n",
    "print(Pecahan(4, 5) * Pecahan (3, 7))\n",
    "print(Pecahan(1, 5) / Pecahan (2, 3))"
   ]
  },
  {
   "cell_type": "code",
   "execution_count": null,
   "metadata": {},
   "outputs": [],
   "source": []
  },
  {
   "cell_type": "code",
   "execution_count": null,
   "metadata": {},
   "outputs": [],
   "source": []
  }
 ],
 "metadata": {
  "kernelspec": {
   "display_name": "Python 3",
   "language": "python",
   "name": "python3"
  },
  "language_info": {
   "codemirror_mode": {
    "name": "ipython",
    "version": 3
   },
   "file_extension": ".py",
   "mimetype": "text/x-python",
   "name": "python",
   "nbconvert_exporter": "python",
   "pygments_lexer": "ipython3",
   "version": "3.8.3"
  },
  "vscode": {
   "interpreter": {
    "hash": "ab346aeb941d3eb22c315bdddbcd7a9399296d9e3feea520812b7600ca0cd9c8"
   }
  }
 },
 "nbformat": 4,
 "nbformat_minor": 2
}
