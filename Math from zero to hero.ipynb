{
 "cells": [
  {
   "cell_type": "markdown",
   "metadata": {},
   "source": [
    "# Math in Python from Zero to Hero!\n",
    "### An approach to understanding theory and implementation of Math.\n",
    "### From elementary level to university Math.\n",
    "\n",
    "Learning from Profesor Dave on Youtube.\n",
    "https://youtube.com/playlist?list=PLybg94GvOJ9FoGQeUMFZ4SWZsr30jlUYK"
   ]
  },
  {
   "cell_type": "markdown",
   "metadata": {},
   "source": [
    "#  Addition and Subtraction"
   ]
  },
  {
   "cell_type": "code",
   "execution_count": 35,
   "metadata": {},
   "outputs": [
    {
     "name": "stdout",
     "output_type": "stream",
     "text": [
      "3\n",
      "-1\n"
     ]
    }
   ],
   "source": [
    "# Small number with variabel\n",
    "a = 1\n",
    "b = 2\n",
    "print(a + b)\n",
    "c = 3\n",
    "d = 4\n",
    "print(c - d)"
   ]
  },
  {
   "cell_type": "code",
   "execution_count": 36,
   "metadata": {},
   "outputs": [
    {
     "name": "stdout",
     "output_type": "stream",
     "text": [
      "11434\n",
      "245908\n"
     ]
    }
   ],
   "source": [
    "# Big Number\n",
    "print(10978+456)\n",
    "print(246745-837)"
   ]
  },
  {
   "cell_type": "markdown",
   "metadata": {},
   "source": [
    "# Multiplication and Division"
   ]
  },
  {
   "cell_type": "code",
   "execution_count": 37,
   "metadata": {},
   "outputs": [
    {
     "name": "stdout",
     "output_type": "stream",
     "text": [
      "40\n",
      "0.1\n"
     ]
    }
   ],
   "source": [
    "# Small number\n",
    "e = 20\n",
    "f = 2\n",
    "print (e * f)\n",
    "print(f / e)"
   ]
  },
  {
   "cell_type": "code",
   "execution_count": 39,
   "metadata": {},
   "outputs": [
    {
     "name": "stdout",
     "output_type": "stream",
     "text": [
      "4971648\n",
      "125082.86626139817\n"
     ]
    }
   ],
   "source": [
    "# Big number\n",
    "print(12947*384)\n",
    "print(123456789/987)"
   ]
  },
  {
   "cell_type": "markdown",
   "metadata": {},
   "source": [
    "# Fractions, Improper Fractions, and Mixed Numbers"
   ]
  },
  {
   "cell_type": "code",
   "execution_count": 3,
   "metadata": {},
   "outputs": [
    {
     "name": "stdout",
     "output_type": "stream",
     "text": [
      "6/7\n",
      "15/16\n"
     ]
    }
   ],
   "source": [
    "#Fraction / Bilangan Bulat\n",
    "from fractions import Fraction as Pecahan \n",
    "print (Pecahan(12, 14)) \n",
    "print (Pecahan(15, 16))"
   ]
  },
  {
   "cell_type": "code",
   "execution_count": 4,
   "metadata": {},
   "outputs": [
    {
     "name": "stdout",
     "output_type": "stream",
     "text": [
      "6004799503160661/18014398509481984\n"
     ]
    }
   ],
   "source": [
    "#Fraction Float\n",
    "from fractions import Fraction as Pecahan  \n",
    "print(Pecahan(2/6))"
   ]
  },
  {
   "cell_type": "code",
   "execution_count": 5,
   "metadata": {},
   "outputs": [
    {
     "name": "stdout",
     "output_type": "stream",
     "text": [
      "1/4\n",
      "1/2\n"
     ]
    }
   ],
   "source": [
    "# Fraction Decimal\n",
    "from fractions import Fraction as pecahan\n",
    "print(pecahan(0.25))\n",
    "print(pecahan(0.5))"
   ]
  },
  {
   "cell_type": "code",
   "execution_count": 6,
   "metadata": {},
   "outputs": [
    {
     "name": "stdout",
     "output_type": "stream",
     "text": [
      "23/20\n",
      "5/12\n",
      "12/35\n",
      "3/10\n"
     ]
    }
   ],
   "source": [
    "# Fraction in Subdivision, Addition, Subtraction, and Divison.\n",
    "from fractions import Fraction as Pecahan\n",
    "print(Pecahan(3, 4) + Pecahan(2, 5))  \n",
    "print(Pecahan(3, 4) - Pecahan(2, 6))  \n",
    "print(Pecahan(4, 5) * Pecahan (3, 7))\n",
    "print(Pecahan(1, 5) / Pecahan (2, 3))"
   ]
  },
  {
   "cell_type": "markdown",
   "metadata": {},
   "source": [
    "# Large Whole Numbers: Place Values and Estimating"
   ]
  },
  {
   "cell_type": "code",
   "execution_count": 7,
   "metadata": {},
   "outputs": [],
   "source": [
    "# 1-9\n",
    "# 10-99\n",
    "# 100-999\n",
    "# 1000-9999\n",
    "# 10000-9999\n",
    "# Finite till Infinite"
   ]
  },
  {
   "cell_type": "markdown",
   "metadata": {},
   "source": [
    "# Decimal : Notation and Operations"
   ]
  },
  {
   "cell_type": "code",
   "execution_count": 8,
   "metadata": {},
   "outputs": [
    {
     "name": "stdout",
     "output_type": "stream",
     "text": [
      "This is the result\n",
      "2.2 None\n",
      "4.2\n",
      "10.1\n",
      "3.0\n",
      "10.9\n"
     ]
    }
   ],
   "source": [
    "DecimalA = 1.1\n",
    "DecimalB = 3.1\n",
    "DecimalC = 1.9\n",
    "DecimalD = 9.0\n",
    "\n",
    "print(DecimalA + DecimalA, print(\"This is the result\"))\n",
    "print(DecimalA + DecimalB)\n",
    "print(DecimalD + DecimalA)\n",
    "print(DecimalA + DecimalC)\n",
    "print(DecimalC + DecimalD)"
   ]
  },
  {
   "cell_type": "code",
   "execution_count": 9,
   "metadata": {},
   "outputs": [
    {
     "name": "stdout",
     "output_type": "stream",
     "text": [
      "This is the result\n",
      "0.2 None\n",
      "0.002\n",
      "0.0002\n",
      "2e-05\n",
      "9.001\n"
     ]
    }
   ],
   "source": [
    "# Smaller Number\n",
    "DecimalE = 0.1\n",
    "DecimalF = 0.001\n",
    "DecimalG = 0.0001\n",
    "DecimalH = 0.00001\n",
    "\n",
    "print(DecimalE + DecimalE, print(\"This is the result\"))\n",
    "print(DecimalF + DecimalF)\n",
    "print(DecimalG + DecimalG)\n",
    "print(DecimalH + DecimalH)\n",
    "print(DecimalF + DecimalD)"
   ]
  },
  {
   "cell_type": "code",
   "execution_count": 10,
   "metadata": {},
   "outputs": [
    {
     "name": "stdout",
     "output_type": "stream",
     "text": [
      "This is the result\n",
      "2.2 None\n",
      "-2.0\n",
      "1.0\n",
      "1e-06\n",
      "This is the result 2\n",
      "1.2000000000000002 None\n",
      "-2.0\n",
      "0.01\n",
      "0.0031000000000000003\n"
     ]
    }
   ],
   "source": [
    "# Decimal in Subdivision, Addition, Subtraction, and Divison.\n",
    "DecimalA = 1.1\n",
    "DecimalB = 3.1\n",
    "DecimalE = 0.1\n",
    "DecimalF = 0.001\n",
    "\n",
    "print(DecimalA + DecimalA, print(\"This is the result\"))\n",
    "print(DecimalA - DecimalB)\n",
    "print(DecimalE / DecimalE)\n",
    "print(DecimalF * DecimalF)\n",
    "\n",
    "print(DecimalE + DecimalA, print(\"This is the result 2\"))\n",
    "print(DecimalA - DecimalB)\n",
    "print(DecimalF / DecimalE)\n",
    "print(DecimalF * DecimalB)"
   ]
  },
  {
   "cell_type": "markdown",
   "metadata": {},
   "source": [
    "# Working with Percentages"
   ]
  },
  {
   "cell_type": "markdown",
   "metadata": {},
   "source": [
    "#### Percent (%) = (number of parts) / (total amount) x 100%\n",
    "#### Persen (%) = (jumlah bagian) / (jumlah total) x 100%\n",
    "\n",
    "2/4 == 50%, 1/100, etc"
   ]
  },
  {
   "cell_type": "code",
   "execution_count": 11,
   "metadata": {},
   "outputs": [
    {
     "name": "stdout",
     "output_type": "stream",
     "text": [
      "60.0\n"
     ]
    }
   ],
   "source": [
    "quotient = 3 / 5\n",
    "\n",
    "percent = quotient * 100\n",
    "\n",
    "print(percent)"
   ]
  },
  {
   "cell_type": "code",
   "execution_count": 12,
   "metadata": {},
   "outputs": [
    {
     "name": "stdout",
     "output_type": "stream",
     "text": [
      "60.0%\n"
     ]
    }
   ],
   "source": [
    "# Create Percent Function 2 \n",
    "def percentage(part, whole):\n",
    "  percentage = 100 * float(part)/float(whole)\n",
    "  return str(percentage) + \"%\"\n",
    "\n",
    "print(percentage(3, 5))"
   ]
  },
  {
   "cell_type": "code",
   "execution_count": 13,
   "metadata": {},
   "outputs": [
    {
     "name": "stdout",
     "output_type": "stream",
     "text": [
      "x = 33.33333333333333%\n",
      "y = 66.66666666666666%\n"
     ]
    }
   ],
   "source": [
    "# Create Percent Function 2\n",
    "def percent(x, y):\n",
    "    if not x and not y:\n",
    "        print(\"x = 0%\\ny = 0%\")\n",
    "    elif x < 0 or y < 0:\n",
    "        print(\"The inputs can't be negative!\")\n",
    "    else:\n",
    "        final = 100 / (x + y)\n",
    "        x *= final\n",
    "        y *= final\n",
    "        print('x = {}%\\ny = {}%'.format(x, y))\n",
    "\n",
    "percent(3, 6)"
   ]
  },
  {
   "cell_type": "code",
   "execution_count": 14,
   "metadata": {},
   "outputs": [
    {
     "name": "stdout",
     "output_type": "stream",
     "text": [
      "1\n"
     ]
    }
   ],
   "source": [
    "# Modulo\n",
    "data = 3\n",
    "info = 2\n",
    "remainder = data % info\n",
    "print(remainder)"
   ]
  },
  {
   "cell_type": "markdown",
   "metadata": {},
   "source": [
    "# Converting Between Fractions, Decimals, and Percentages\n",
    "\n",
    "### Percentage 30% Fraction 3/10 Decimal 0.3\n",
    "\n",
    "#### 1. To go from percentage straight to decimal just move the decimal twice to the left\n",
    "#### 2. To go from decimal straight to percentage just move the decimal twice to the right\n",
    "#### 3. To go from fraction straight to percentage we can convert to a decimal first\n",
    "\n",
    "##### 45/100 = 45%\n",
    "\n",
    "##### 0.43 = 43%\n",
    "\n",
    "##### 21/ 50 = ?%\n",
    "##### need to convert to 100, so \n",
    "##### 21/50 * 2/2 = 44/100 = 44%"
   ]
  },
  {
   "cell_type": "code",
   "execution_count": 23,
   "metadata": {},
   "outputs": [
    {
     "name": "stdout",
     "output_type": "stream",
     "text": [
      "This is your tax 0.15 $ \n"
     ]
    }
   ],
   "source": [
    "# \n",
    "price = 100\n",
    "tax = 0.0015\n",
    "print(\"This is your tax\", price * tax,\"$ \")"
   ]
  },
  {
   "cell_type": "code",
   "execution_count": 24,
   "metadata": {},
   "outputs": [
    {
     "name": "stdout",
     "output_type": "stream",
     "text": [
      "80.0\n"
     ]
    }
   ],
   "source": [
    "quotient = 4 / 5\n",
    "\n",
    "percent = quotient * 100\n",
    "\n",
    "print(percent)"
   ]
  },
  {
   "cell_type": "code",
   "execution_count": 34,
   "metadata": {},
   "outputs": [
    {
     "name": "stdout",
     "output_type": "stream",
     "text": [
      "true this is 50%\n"
     ]
    }
   ],
   "source": [
    "if 10 == 2 * 5:\n",
    "    print(\"true this is 50%\") \n",
    "elif 10 < 9:\n",
    "        print(\"try again\")"
   ]
  },
  {
   "cell_type": "markdown",
   "metadata": {},
   "source": [
    "# The Distributive Property for Arithmetic\n",
    "### Division and Subtraction go first, then Addition and Subtraction"
   ]
  },
  {
   "cell_type": "code",
   "execution_count": 40,
   "metadata": {},
   "outputs": [
    {
     "name": "stdout",
     "output_type": "stream",
     "text": [
      "35\n"
     ]
    }
   ],
   "source": [
    "print(5*(3+4))"
   ]
  },
  {
   "cell_type": "code",
   "execution_count": 43,
   "metadata": {},
   "outputs": [
    {
     "name": "stdout",
     "output_type": "stream",
     "text": [
      "31\n"
     ]
    }
   ],
   "source": [
    "print((5*3)+(4*4))"
   ]
  },
  {
   "cell_type": "code",
   "execution_count": 44,
   "metadata": {},
   "outputs": [
    {
     "name": "stdout",
     "output_type": "stream",
     "text": [
      "18\n"
     ]
    }
   ],
   "source": [
    "print((5-3)+(4*4))"
   ]
  },
  {
   "cell_type": "code",
   "execution_count": 45,
   "metadata": {},
   "outputs": [
    {
     "name": "stdout",
     "output_type": "stream",
     "text": [
      "10\n"
     ]
    }
   ],
   "source": [
    "print((5-3)+(4+4))"
   ]
  },
  {
   "cell_type": "code",
   "execution_count": 46,
   "metadata": {},
   "outputs": [
    {
     "name": "stdout",
     "output_type": "stream",
     "text": [
      "-2\n"
     ]
    }
   ],
   "source": [
    "print(5-(3+4))"
   ]
  },
  {
   "cell_type": "code",
   "execution_count": 47,
   "metadata": {},
   "outputs": [
    {
     "name": "stdout",
     "output_type": "stream",
     "text": [
      "0.7142857142857143\n"
     ]
    }
   ],
   "source": [
    "print(5/(3+4))"
   ]
  },
  {
   "cell_type": "code",
   "execution_count": 49,
   "metadata": {},
   "outputs": [
    {
     "name": "stdout",
     "output_type": "stream",
     "text": [
      "35\n"
     ]
    }
   ],
   "source": [
    "print(5*(3+4))"
   ]
  },
  {
   "cell_type": "code",
   "execution_count": 51,
   "metadata": {},
   "outputs": [
    {
     "name": "stdout",
     "output_type": "stream",
     "text": [
      "-35\n"
     ]
    }
   ],
   "source": [
    "print(5*(-7))"
   ]
  },
  {
   "cell_type": "markdown",
   "metadata": {},
   "source": [
    "### Advanced"
   ]
  },
  {
   "cell_type": "code",
   "execution_count": 52,
   "metadata": {},
   "outputs": [
    {
     "name": "stdout",
     "output_type": "stream",
     "text": [
      "85\n"
     ]
    }
   ],
   "source": [
    "print(5*(10+5+2))"
   ]
  },
  {
   "cell_type": "code",
   "execution_count": 53,
   "metadata": {},
   "outputs": [
    {
     "name": "stdout",
     "output_type": "stream",
     "text": [
      "165\n"
     ]
    }
   ],
   "source": [
    "print(5*(5*4)+(4*5)+(9*5))"
   ]
  },
  {
   "cell_type": "code",
   "execution_count": 54,
   "metadata": {},
   "outputs": [
    {
     "name": "stdout",
     "output_type": "stream",
     "text": [
      "65.25\n"
     ]
    }
   ],
   "source": [
    "print(5/(5*4)+(4*5)+(9*5))"
   ]
  },
  {
   "cell_type": "code",
   "execution_count": 55,
   "metadata": {},
   "outputs": [
    {
     "name": "stdout",
     "output_type": "stream",
     "text": [
      "50\n"
     ]
    }
   ],
   "source": [
    "print(5-(5*4)+(4*5)+(9*5))"
   ]
  },
  {
   "cell_type": "code",
   "execution_count": 56,
   "metadata": {},
   "outputs": [
    {
     "name": "stdout",
     "output_type": "stream",
     "text": [
      "90\n"
     ]
    }
   ],
   "source": [
    "print(5+(5*4)+(4*5)+(9*5))"
   ]
  },
  {
   "cell_type": "markdown",
   "metadata": {},
   "source": [
    "# Negative Number"
   ]
  },
  {
   "cell_type": "code",
   "execution_count": 64,
   "metadata": {},
   "outputs": [
    {
     "name": "stdout",
     "output_type": "stream",
     "text": [
      "0\n"
     ]
    }
   ],
   "source": [
    "print(-5+5)"
   ]
  },
  {
   "cell_type": "code",
   "execution_count": 62,
   "metadata": {},
   "outputs": [
    {
     "name": "stdout",
     "output_type": "stream",
     "text": [
      "0\n"
     ]
    }
   ],
   "source": [
    "print(-5--5)"
   ]
  },
  {
   "cell_type": "code",
   "execution_count": 63,
   "metadata": {},
   "outputs": [
    {
     "name": "stdout",
     "output_type": "stream",
     "text": [
      "-25\n"
     ]
    }
   ],
   "source": [
    "print(-5*5)"
   ]
  },
  {
   "cell_type": "code",
   "execution_count": 65,
   "metadata": {},
   "outputs": [
    {
     "name": "stdout",
     "output_type": "stream",
     "text": [
      "65\n"
     ]
    }
   ],
   "source": [
    "print(5*(4--9))"
   ]
  },
  {
   "cell_type": "code",
   "execution_count": 66,
   "metadata": {},
   "outputs": [
    {
     "name": "stdout",
     "output_type": "stream",
     "text": [
      "-315\n"
     ]
    }
   ],
   "source": [
    "print(-45*7)"
   ]
  },
  {
   "cell_type": "markdown",
   "metadata": {},
   "source": [
    "## Exponent and Their Operations\n",
    "\n",
    "### Exponent in Python using **\n",
    "\n",
    "### Exponent Rule\n",
    "#### X**a * X**b = X = X**a+b\n",
    "#### X**a * X**-b = X = X**a+b\n",
    "#### (X**4)2 = (X*X*X*X)**2 = (X*X*X*X*X*X*X*X) = X**8\n",
    "#### (X**4)/(X**3) = (X)"
   ]
  },
  {
   "cell_type": "code",
   "execution_count": 67,
   "metadata": {},
   "outputs": [
    {
     "name": "stdout",
     "output_type": "stream",
     "text": [
      "25\n"
     ]
    }
   ],
   "source": [
    "print(5**2)"
   ]
  },
  {
   "cell_type": "code",
   "execution_count": 68,
   "metadata": {},
   "outputs": [
    {
     "name": "stdout",
     "output_type": "stream",
     "text": [
      "125\n"
     ]
    }
   ],
   "source": [
    "print(5**3)"
   ]
  },
  {
   "cell_type": "code",
   "execution_count": 69,
   "metadata": {},
   "outputs": [
    {
     "name": "stdout",
     "output_type": "stream",
     "text": [
      "625\n"
     ]
    }
   ],
   "source": [
    "print(5**4)"
   ]
  },
  {
   "cell_type": "code",
   "execution_count": 70,
   "metadata": {},
   "outputs": [
    {
     "name": "stdout",
     "output_type": "stream",
     "text": [
      "0.04\n"
     ]
    }
   ],
   "source": [
    "print(5**-2)"
   ]
  },
  {
   "cell_type": "code",
   "execution_count": 71,
   "metadata": {},
   "outputs": [
    {
     "name": "stdout",
     "output_type": "stream",
     "text": [
      "0\n"
     ]
    }
   ],
   "source": [
    "print(5**2 + -5**2)"
   ]
  },
  {
   "cell_type": "code",
   "execution_count": 72,
   "metadata": {},
   "outputs": [
    {
     "name": "stdout",
     "output_type": "stream",
     "text": [
      "2710505431213761085018632002174854278564453125\n"
     ]
    }
   ],
   "source": [
    "print(5**65)"
   ]
  },
  {
   "cell_type": "markdown",
   "metadata": {},
   "source": [
    "# Order of Arithmatic Operations : PEMDAS\n",
    "### (Addition, Subtraction, Multiplication, Division, Exponentiation)\n",
    "\n",
    "### The Convention must be followed is :\n",
    "### (Parentheses, Exponents, Multiplication, Division, Addition, Subtraction)\n",
    "\n",
    "\n",
    "### 15+ (3+2)**2 - 9*6 + 2**3 =\n",
    "### 15 + 25 - 54 + 8 = -6"
   ]
  },
  {
   "cell_type": "code",
   "execution_count": 80,
   "metadata": {},
   "outputs": [
    {
     "name": "stdout",
     "output_type": "stream",
     "text": [
      "-6\n"
     ]
    }
   ],
   "source": [
    "# Wrong way\n",
    "print(15+(3+2)**2-9*6+2**3)"
   ]
  },
  {
   "cell_type": "code",
   "execution_count": 79,
   "metadata": {},
   "outputs": [
    {
     "name": "stdout",
     "output_type": "stream",
     "text": [
      "-6\n"
     ]
    }
   ],
   "source": [
    "# Correct Way\n",
    "# (15+(3+2)**2-9*6+2**3) =\n",
    "print(15+25-54+8)"
   ]
  },
  {
   "cell_type": "markdown",
   "metadata": {},
   "source": [
    "## Basic Geometri and Measurement"
   ]
  },
  {
   "cell_type": "markdown",
   "metadata": {},
   "source": [
    "### Area and Perimeter"
   ]
  },
  {
   "attachments": {
    "image.png": {
     "image/png": "[encoded data removed]"
    }
   },
   "cell_type": "markdown",
   "metadata": {},
   "source": [
    "![image.png](attachment:image.png)"
   ]
  },
  {
   "cell_type": "markdown",
   "metadata": {},
   "source": [
    "### Difference Beetween Areia and Perimeter\n",
    "### Area\n",
    "Area is the region occupied by a shape\n",
    "Area is measured in square units (m2, cm2, in2, etc.)\n",
    "Example: Area of rectangular ground is equal to product of its length and breadth.\n",
    "\n",
    "### Perimeter\n",
    "Perimeter is total distance covered by the boundary of a shape\n",
    "Perimeter is measured in units (m, cm, in, feet, etc.)\n",
    "Example: Perimeter of a rectangular ground is equal to sum of all its four boundaries, i.e, 2(length + breadth).\n",
    "\n",
    "### Rectangle\n",
    "Perimeter of a Rectangle = 2(a+b)\n",
    "Area of Rectangle = a × b\n",
    "\n",
    "### Square\n",
    "Perimeter of a Square = 4a\n",
    "Area of a Square = a2\n",
    "\n",
    "### Triangle\n",
    "Perimeter of a triangle = a + b +c , where a, b and c are the three different sides of the triangle.\n",
    "Area of a triangle = 1/2 b × h; where b is the base and h is the height of the triangle.\n",
    "\n",
    "### Circle\n",
    "Circumference of Circle = 2πr\n",
    "Area of Circle = πr2"
   ]
  },
  {
   "cell_type": "markdown",
   "metadata": {},
   "source": [
    "### Example 1:\n",
    "\n",
    " If the radius of a circle is 21cm. Find its area and circumference.\n",
    "\n",
    " Solution:\n",
    "\n",
    " Given, radius = 21cm\n",
    "\n",
    "Therefore, Area = π × r2\n",
    "\n",
    "A = 22/7 × 21 × 21\n",
    "\n",
    "A = 1386 sq.cm.\n",
    "\n",
    "Circumference, C = 2πr \n",
    "\n",
    "C = 2 x 22/7 x 21 = 132 cm\n",
    "\n",
    "Example 2:\n",
    "\n",
    "If the length of the side of a square is 11cm. Then find its area and also find the total length of its boundary.\n",
    "\n",
    "Solution:\n",
    "\n",
    "Given, length of the side, a = 11 cm\n",
    "\n",
    "Area = a2 = 112 = 121 sq.cm\n",
    "\n",
    "Total length of its boundary, Perimeter = 4a = 4 x 11 = 44 sq.cm.\n",
    "\n",
    "Example 3:\n",
    "\n",
    "The length of rectangular field is 12m and width is 10m. Find the area of the field along with its perimeter.\n",
    "\n",
    "Solution:\n",
    "\n",
    "Given, Length = 12m\n",
    "\n",
    "Width = 10m\n",
    "\n",
    "Therefore, Area = length x width = 12 x 10 = 120 sq.m.\n",
    "\n",
    "Perimeter = 2 (length + width) = 2 x (12 + 10) = 2 x 22 = 44 m."
   ]
  },
  {
   "cell_type": "code",
   "execution_count": 9,
   "metadata": {},
   "outputs": [
    {
     "name": "stdout",
     "output_type": "stream",
     "text": [
      "1386.0\n",
      "None cm\n"
     ]
    }
   ],
   "source": [
    "# Circle\n",
    "\n",
    "Radius = 21\n",
    "Area = 22/7 * 21 *21\n",
    "Result = print(Area)\n",
    "print(Result, \"cm\")"
   ]
  },
  {
   "cell_type": "code",
   "execution_count": 14,
   "metadata": {},
   "outputs": [
    {
     "name": "stdout",
     "output_type": "stream",
     "text": [
      "121\n",
      "44\n"
     ]
    }
   ],
   "source": [
    "# Square\n",
    "Area = 11*11\n",
    "print(Area)\n",
    "Perimeter = 4*(11)\n",
    "print(Perimeter)"
   ]
  },
  {
   "cell_type": "code",
   "execution_count": 19,
   "metadata": {},
   "outputs": [
    {
     "name": "stdout",
     "output_type": "stream",
     "text": [
      "120 44\n"
     ]
    }
   ],
   "source": [
    "# Rectangle\n",
    "lenght = 12\n",
    "widht = 10\n",
    "area = lenght*widht\n",
    "perimeter = 2*(lenght+widht)\n",
    "print(area, perimeter)"
   ]
  },
  {
   "cell_type": "code",
   "execution_count": 23,
   "metadata": {},
   "outputs": [
    {
     "name": "stdout",
     "output_type": "stream",
     "text": [
      "17.5\n",
      "9\n"
     ]
    }
   ],
   "source": [
    "# Triangle\n",
    "base = 5\n",
    "height = 7\n",
    "a = 3\n",
    "b = 3\n",
    "c = 3\n",
    "area = 1/2 * 5 * 7\n",
    "perimeter = a+b+c\n",
    "print(area)\n",
    "print(perimeter)"
   ]
  },
  {
   "cell_type": "markdown",
   "metadata": {},
   "source": [
    "### Mass and Volume"
   ]
  },
  {
   "cell_type": "markdown",
   "metadata": {},
   "source": [
    "Mass using Gram\n",
    "Volume using Liter\n",
    "KG - MG\n",
    "KL - ML"
   ]
  },
  {
   "cell_type": "code",
   "execution_count": 37,
   "metadata": {},
   "outputs": [
    {
     "name": "stdout",
     "output_type": "stream",
     "text": [
      "835\n"
     ]
    }
   ],
   "source": [
    "print(572+263)"
   ]
  },
  {
   "cell_type": "code",
   "execution_count": 38,
   "metadata": {},
   "outputs": [
    {
     "name": "stdout",
     "output_type": "stream",
     "text": [
      "12.0\n"
     ]
    }
   ],
   "source": [
    "print(60/5)"
   ]
  },
  {
   "cell_type": "markdown",
   "metadata": {},
   "source": [
    "## Pre-Algebra"
   ]
  },
  {
   "cell_type": "code",
   "execution_count": null,
   "metadata": {},
   "outputs": [],
   "source": []
  }
 ],
 "metadata": {
  "kernelspec": {
   "display_name": "Python 3",
   "language": "python",
   "name": "python3"
  },
  "language_info": {
   "codemirror_mode": {
    "name": "ipython",
    "version": 3
   },
   "file_extension": ".py",
   "mimetype": "text/x-python",
   "name": "python",
   "nbconvert_exporter": "python",
   "pygments_lexer": "ipython3",
   "version": "3.8.3"
  },
  "vscode": {
   "interpreter": {
    "hash": "ab346aeb941d3eb22c315bdddbcd7a9399296d9e3feea520812b7600ca0cd9c8"
   }
  }
 },
 "nbformat": 4,
 "nbformat_minor": 2
}
